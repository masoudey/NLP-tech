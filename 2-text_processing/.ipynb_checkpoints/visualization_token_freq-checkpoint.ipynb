{
 "cells": [
  {
   "cell_type": "code",
   "execution_count": null,
   "id": "795ba262",
   "metadata": {
    "vscode": {
     "languageId": "plaintext"
    }
   },
   "outputs": [],
   "source": [
    "# Cell 1: Import Libraries\n",
    "import pandas as pd\n",
    "import seaborn as sns\n",
    "import matplotlib.pyplot as plt\n",
    "from collections import Counter\n",
    "import ast\n",
    "\n",
    "# Set seaborn style\n",
    "sns.set(style=\"whitegrid\")\n",
    "\n",
    "# Cell 2: Load the token results\n",
    "df = pd.read_csv(\"token_results.csv\")\n",
    "\n",
    "# Cell 3: Convert stringified lists to actual Python lists\n",
    "df['nltk_tokens'] = df['nltk_tokens'].apply(ast.literal_eval)\n",
    "df['spacy_tokens'] = df['spacy_tokens'].apply(ast.literal_eval)\n",
    "\n",
    "df['nltk_lemmas'] = df['nltk_lemmas'].apply(ast.literal_eval)\n",
    "df['spacy_lemmas'] = df['spacy_lemmas'].apply(ast.literal_eval)\n",
    "\n",
    "# Cell 4: Flatten the lists of tokens\n",
    "nltk_token_list = [token.lower() for sublist in df['nltk_tokens'] for token in sublist if token.isalpha()]\n",
    "spacy_token_list = [token.lower() for sublist in df['spacy_tokens'] for token in sublist if token.isalpha()]\n",
    "\n",
    "# Cell 5: Get token frequency counts using Counter\n",
    "nltk_freq = Counter(nltk_token_list)\n",
    "spacy_freq = Counter(spacy_token_list)\n",
    "\n",
    "# Convert to DataFrames\n",
    "nltk_freq_df = pd.DataFrame(nltk_freq.items(), columns=['token', 'frequency'])\n",
    "spacy_freq_df = pd.DataFrame(spacy_freq.items(), columns=['token', 'frequency'])\n",
    "\n",
    "# Sort by frequency\n",
    "nltk_freq_df = nltk_freq_df.sort_values(by='frequency', ascending=False).head(20)\n",
    "spacy_freq_df = spacy_freq_df.sort_values(by='frequency', ascending=False).head(20)\n",
    "\n",
    "# Add tool name for combined plotting\n",
    "nltk_freq_df['tool'] = 'NLTK'\n",
    "spacy_freq_df['tool'] = 'spaCy'\n",
    "\n",
    "# Combine both into one DataFrame\n",
    "combined_df = pd.concat([nltk_freq_df, spacy_freq_df])\n",
    "\n",
    "# Cell 6: Bar plot of top tokens\n",
    "plt.figure(figsize=(14, 8))\n",
    "sns.barplot(data=combined_df, x='frequency', y='token', hue='tool')\n",
    "plt.title(\"Top 20 Tokens (NLTK vs spaCy)\")\n",
    "plt.xlabel(\"Frequency\")\n",
    "plt.ylabel(\"Token\")\n",
    "plt.legend(title=\"Tool\")\n",
    "plt.tight_layout()\n",
    "plt.show()"
   ]
  }
 ],
 "metadata": {
  "language_info": {
   "name": "python"
  }
 },
 "nbformat": 4,
 "nbformat_minor": 5
}
